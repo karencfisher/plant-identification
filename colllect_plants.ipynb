{
 "cells": [
  {
   "cell_type": "code",
   "execution_count": 8,
   "metadata": {},
   "outputs": [],
   "source": [
    "import pandas as pd\n",
    "from shutil import rmtree\n",
    "import os\n",
    "import time\n",
    "\n",
    "from dotenv import dotenv_values\n",
    "from google_image_search import search_image\n",
    "\n",
    "# API_PROJECT = os.getenv('GCS_CX')\n",
    "# API_KEY = os.getenv('GCS_DEVELOPER_KEY')\n"
   ]
  },
  {
   "cell_type": "code",
   "execution_count": 2,
   "metadata": {},
   "outputs": [
    {
     "data": {
      "text/html": [
       "<div>\n",
       "<style scoped>\n",
       "    .dataframe tbody tr th:only-of-type {\n",
       "        vertical-align: middle;\n",
       "    }\n",
       "\n",
       "    .dataframe tbody tr th {\n",
       "        vertical-align: top;\n",
       "    }\n",
       "\n",
       "    .dataframe thead th {\n",
       "        text-align: right;\n",
       "    }\n",
       "</style>\n",
       "<table border=\"1\" class=\"dataframe\">\n",
       "  <thead>\n",
       "    <tr style=\"text-align: right;\">\n",
       "      <th></th>\n",
       "      <th>Scientific Name</th>\n",
       "      <th>Common Name</th>\n",
       "    </tr>\n",
       "  </thead>\n",
       "  <tbody>\n",
       "    <tr>\n",
       "      <th>1</th>\n",
       "      <td>Arabis perennans var. perennans</td>\n",
       "      <td>Perennial rockcress</td>\n",
       "    </tr>\n",
       "    <tr>\n",
       "      <th>2</th>\n",
       "      <td>Camissonia scapoidea var. scapoidea</td>\n",
       "      <td>Paiute suncup</td>\n",
       "    </tr>\n",
       "    <tr>\n",
       "      <th>3</th>\n",
       "      <td>Chrysopsis villosa var. minor</td>\n",
       "      <td>Hispid golden-aster</td>\n",
       "    </tr>\n",
       "    <tr>\n",
       "      <th>4</th>\n",
       "      <td>Gilia leptomeria var. leptomeria</td>\n",
       "      <td>Common gilia</td>\n",
       "    </tr>\n",
       "    <tr>\n",
       "      <th>5</th>\n",
       "      <td>Haplopappus armerioides var. armerioides</td>\n",
       "      <td>Thrift goldenweed</td>\n",
       "    </tr>\n",
       "  </tbody>\n",
       "</table>\n",
       "</div>"
      ],
      "text/plain": [
       "                            Scientific Name          Common Name\n",
       "1           Arabis perennans var. perennans  Perennial rockcress\n",
       "2       Camissonia scapoidea var. scapoidea        Paiute suncup\n",
       "3             Chrysopsis villosa var. minor  Hispid golden-aster\n",
       "4          Gilia leptomeria var. leptomeria         Common gilia\n",
       "5  Haplopappus armerioides var. armerioides    Thrift goldenweed"
      ]
     },
     "execution_count": 2,
     "metadata": {},
     "output_type": "execute_result"
    }
   ],
   "source": [
    "df = pd.read_csv('NPSpecies_Checklist_ARCH_20221012_133717.csv')\n",
    "df = df[df['Occurrence'] == 'Present'][['Scientific Name', 'Common Name']]\n",
    "df.head()"
   ]
  },
  {
   "cell_type": "code",
   "execution_count": 6,
   "metadata": {},
   "outputs": [],
   "source": [
    "def search_images(df, start, stop):\n",
    "\n",
    "    base_path = os.path.join(os.getcwd(), 'data')\n",
    "\n",
    "    for i in range(start, stop + 1):\n",
    "        name = df.iloc[i]['Scientific Name']\n",
    "        data_path = os.path.join(base_path, name)\n",
    "        if os.path.exists(data_path):\n",
    "            rmtree(data_path)\n",
    "        os.mkdir(data_path)\n",
    "        \n",
    "        print(f'Searching for {name}...')\n",
    "        start = time.time()\n",
    "        result = search_image(name, 10, data_path)\n",
    "        elapsed = time.time() - start\n",
    "        elapsed_time = f'{int(elapsed // 60)} minutes, {int(elapsed % 60)} seconds'\n",
    "        print(f'{result} images downloaded in {elapsed_time}')\n"
   ]
  },
  {
   "cell_type": "code",
   "execution_count": 9,
   "metadata": {},
   "outputs": [
    {
     "name": "stdout",
     "output_type": "stream",
     "text": [
      "Searching for Camissonia scapoidea var. scapoidea...\n",
      "0 images downloaded in 0 minutes, 0 seconds\n",
      "Searching for Chrysopsis villosa var. minor...\n",
      "0 images downloaded in 0 minutes, 0 seconds\n",
      "Searching for Gilia leptomeria var. leptomeria...\n",
      "0 images downloaded in 0 minutes, 0 seconds\n"
     ]
    }
   ],
   "source": [
    "search_images(df, 1, 3)"
   ]
  }
 ],
 "metadata": {
  "kernelspec": {
   "display_name": "Python 3.8.8 ('plant-identification-UsmIDad5')",
   "language": "python",
   "name": "python3"
  },
  "language_info": {
   "codemirror_mode": {
    "name": "ipython",
    "version": 3
   },
   "file_extension": ".py",
   "mimetype": "text/x-python",
   "name": "python",
   "nbconvert_exporter": "python",
   "pygments_lexer": "ipython3",
   "version": "3.8.8"
  },
  "orig_nbformat": 4,
  "vscode": {
   "interpreter": {
    "hash": "4729e31cb29dbcf40643f1bb3e256a39254c66c08b265784311efbe7ac7d3363"
   }
  }
 },
 "nbformat": 4,
 "nbformat_minor": 2
}
