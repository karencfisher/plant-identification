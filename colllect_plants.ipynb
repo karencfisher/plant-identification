{
 "cells": [
  {
   "cell_type": "code",
   "execution_count": 2,
   "metadata": {},
   "outputs": [],
   "source": [
    "import pandas as pd\n",
    "from shutil import rmtree\n",
    "import os\n",
    "import time\n",
    "\n",
    "from dotenv import dotenv_values\n",
    "from google_image_search import search_image\n",
    "\n",
    "# API_PROJECT = os.getenv('GCS_CX')\n",
    "# API_KEY = os.getenv('GCS_DEVELOPER_KEY')\n"
   ]
  },
  {
   "cell_type": "code",
   "execution_count": 3,
   "metadata": {},
   "outputs": [
    {
     "data": {
      "text/html": [
       "<div>\n",
       "<style scoped>\n",
       "    .dataframe tbody tr th:only-of-type {\n",
       "        vertical-align: middle;\n",
       "    }\n",
       "\n",
       "    .dataframe tbody tr th {\n",
       "        vertical-align: top;\n",
       "    }\n",
       "\n",
       "    .dataframe thead th {\n",
       "        text-align: right;\n",
       "    }\n",
       "</style>\n",
       "<table border=\"1\" class=\"dataframe\">\n",
       "  <thead>\n",
       "    <tr style=\"text-align: right;\">\n",
       "      <th></th>\n",
       "      <th>Scientific Name</th>\n",
       "      <th>Common Name</th>\n",
       "    </tr>\n",
       "  </thead>\n",
       "  <tbody>\n",
       "    <tr>\n",
       "      <th>1</th>\n",
       "      <td>Arabis perennans var. perennans</td>\n",
       "      <td>Perennial rockcress</td>\n",
       "    </tr>\n",
       "    <tr>\n",
       "      <th>2</th>\n",
       "      <td>Camissonia scapoidea var. scapoidea</td>\n",
       "      <td>Paiute suncup</td>\n",
       "    </tr>\n",
       "    <tr>\n",
       "      <th>3</th>\n",
       "      <td>Chrysopsis villosa var. minor</td>\n",
       "      <td>Hispid golden-aster</td>\n",
       "    </tr>\n",
       "    <tr>\n",
       "      <th>4</th>\n",
       "      <td>Gilia leptomeria var. leptomeria</td>\n",
       "      <td>Common gilia</td>\n",
       "    </tr>\n",
       "    <tr>\n",
       "      <th>5</th>\n",
       "      <td>Haplopappus armerioides var. armerioides</td>\n",
       "      <td>Thrift goldenweed</td>\n",
       "    </tr>\n",
       "    <tr>\n",
       "      <th>6</th>\n",
       "      <td>Suaeda torreyana var. torreyana</td>\n",
       "      <td>Torrey's seepweed</td>\n",
       "    </tr>\n",
       "    <tr>\n",
       "      <th>7</th>\n",
       "      <td>Viguiera multiflora var. multiflora</td>\n",
       "      <td>Showy goldeneye</td>\n",
       "    </tr>\n",
       "    <tr>\n",
       "      <th>8</th>\n",
       "      <td>Zuckia brandegei var. brandegei</td>\n",
       "      <td>Brandegee's siltbush</td>\n",
       "    </tr>\n",
       "    <tr>\n",
       "      <th>9</th>\n",
       "      <td>Triglochin maritima</td>\n",
       "      <td>Seaside arrowgrass</td>\n",
       "    </tr>\n",
       "    <tr>\n",
       "      <th>10</th>\n",
       "      <td>Cymopterus acaulis var. fendleri</td>\n",
       "      <td>Fendler's cymopterus</td>\n",
       "    </tr>\n",
       "    <tr>\n",
       "      <th>11</th>\n",
       "      <td>Cymopterus bulbosus</td>\n",
       "      <td>Onion spring-parsley</td>\n",
       "    </tr>\n",
       "    <tr>\n",
       "      <th>12</th>\n",
       "      <td>Cymopterus newberryi</td>\n",
       "      <td>Sticky spring-parsley</td>\n",
       "    </tr>\n",
       "    <tr>\n",
       "      <th>13</th>\n",
       "      <td>Cymopterus purpurascens</td>\n",
       "      <td>Basin white-cup spring-parsley</td>\n",
       "    </tr>\n",
       "    <tr>\n",
       "      <th>14</th>\n",
       "      <td>Cymopterus purpureus var. purpureus</td>\n",
       "      <td>Colorado Plateau spring-parsley</td>\n",
       "    </tr>\n",
       "    <tr>\n",
       "      <th>15</th>\n",
       "      <td>Lomatium latilobum</td>\n",
       "      <td>Canyonlands lomatium</td>\n",
       "    </tr>\n",
       "  </tbody>\n",
       "</table>\n",
       "</div>"
      ],
      "text/plain": [
       "                             Scientific Name                      Common Name\n",
       "1            Arabis perennans var. perennans              Perennial rockcress\n",
       "2        Camissonia scapoidea var. scapoidea                    Paiute suncup\n",
       "3              Chrysopsis villosa var. minor              Hispid golden-aster\n",
       "4           Gilia leptomeria var. leptomeria                     Common gilia\n",
       "5   Haplopappus armerioides var. armerioides                Thrift goldenweed\n",
       "6            Suaeda torreyana var. torreyana                Torrey's seepweed\n",
       "7        Viguiera multiflora var. multiflora                  Showy goldeneye\n",
       "8            Zuckia brandegei var. brandegei             Brandegee's siltbush\n",
       "9                        Triglochin maritima               Seaside arrowgrass\n",
       "10          Cymopterus acaulis var. fendleri             Fendler's cymopterus\n",
       "11                       Cymopterus bulbosus             Onion spring-parsley\n",
       "12                      Cymopterus newberryi            Sticky spring-parsley\n",
       "13                   Cymopterus purpurascens   Basin white-cup spring-parsley\n",
       "14       Cymopterus purpureus var. purpureus  Colorado Plateau spring-parsley\n",
       "15                        Lomatium latilobum             Canyonlands lomatium"
      ]
     },
     "execution_count": 3,
     "metadata": {},
     "output_type": "execute_result"
    }
   ],
   "source": [
    "df = pd.read_csv('NPSpecies_Checklist_ARCH_20221012_133717.csv')\n",
    "df = df[df['Occurrence'] == 'Present'][['Scientific Name', 'Common Name']]\n",
    "df.head(15)"
   ]
  },
  {
   "cell_type": "code",
   "execution_count": 5,
   "metadata": {},
   "outputs": [],
   "source": [
    "def search_images(df, start, stop):\n",
    "\n",
    "    base_path = os.path.join(os.getcwd(), 'data')\n",
    "\n",
    "    for i in range(start, stop + 1):\n",
    "        name = df.iloc[i]['Scientific Name']\n",
    "        name = name.split('var')[0].strip()\n",
    "        data_path = os.path.join(base_path, name)\n",
    "        if os.path.exists(data_path):\n",
    "            rmtree(data_path)\n",
    "        os.mkdir(data_path)\n",
    "        \n",
    "        print(f'Searching for {name}...')\n",
    "        start = time.time()\n",
    "        result = search_image(name, 5, data_path)\n",
    "        elapsed = time.time() - start\n",
    "        elapsed_time = f'{int(elapsed // 60)} minutes, {int(elapsed % 60)} seconds'\n",
    "        print(f'{result} images downloaded in {elapsed_time}')\n"
   ]
  },
  {
   "cell_type": "code",
   "execution_count": 6,
   "metadata": {},
   "outputs": [
    {
     "name": "stdout",
     "output_type": "stream",
     "text": [
      "Searching for Arabis perennans...\n",
      "7 images downloaded in 0 minutes, 4 seconds\n",
      "Searching for Camissonia scapoidea...\n",
      "6 images downloaded in 0 minutes, 3 seconds\n"
     ]
    }
   ],
   "source": [
    "search_images(df, 0, 1)"
   ]
  }
 ],
 "metadata": {
  "kernelspec": {
   "display_name": "Python 3.8.8 ('plant-identification-UsmIDad5')",
   "language": "python",
   "name": "python3"
  },
  "language_info": {
   "codemirror_mode": {
    "name": "ipython",
    "version": 3
   },
   "file_extension": ".py",
   "mimetype": "text/x-python",
   "name": "python",
   "nbconvert_exporter": "python",
   "pygments_lexer": "ipython3",
   "version": "3.8.8"
  },
  "orig_nbformat": 4,
  "vscode": {
   "interpreter": {
    "hash": "4729e31cb29dbcf40643f1bb3e256a39254c66c08b265784311efbe7ac7d3363"
   }
  }
 },
 "nbformat": 4,
 "nbformat_minor": 2
}
